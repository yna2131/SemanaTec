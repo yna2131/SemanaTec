{
  "nbformat": 4,
  "nbformat_minor": 0,
  "metadata": {
    "colab": {
      "provenance": []
    },
    "kernelspec": {
      "name": "python3",
      "display_name": "Python 3"
    },
    "language_info": {
      "name": "python"
    }
  },
  "cells": [
    {
      "cell_type": "markdown",
      "source": [
        "#**USANDO GIT EN GOOGLE COLAB**"
      ],
      "metadata": {
        "id": "YChM7SIN6gYz"
      }
    },
    {
      "cell_type": "markdown",
      "source": [
        "###**¿Qué tengo que hacer?**"
      ],
      "metadata": {
        "id": "Wg4WaVkvOuTb"
      }
    },
    {
      "cell_type": "markdown",
      "source": [
        "En esta actividad, practicaremos cómo enlacer Git con un cuaderno de Google Colab."
      ],
      "metadata": {
        "id": "0h2QLWymO6Q_"
      }
    },
    {
      "cell_type": "markdown",
      "source": [
        "###**Descripción**"
      ],
      "metadata": {
        "id": "aBfwU74ePDLT"
      }
    },
    {
      "cell_type": "markdown",
      "source": [
        "\n",
        "\n",
        "1.    Crea un repositorio llamado **SemanaTec** con un archivo **README.md**.\n",
        "2.    Asegúrate que el archivo contenga la rama **main**.\n",
        "3.    Crea un nuevo cuaderno en Google Colab.\n",
        "4.    Realiza todos los pasos necesarios para que, desde el cuaderno de Google Colab, accedamos al repositorio **SemanaTec**.\n",
        "5.    Empleando comandos de consola, realiza cambios en el archivo **README.md**. Para ello, agrega una línea de texto que diga \"Cambios en README -main\".\n",
        "6.    Publica los cambios en el repositorio en la rama **main**. (commit)\n",
        "7.    Genera una rama nueva llamada **dev**.\n",
        "8.    Realiza cambios en el archivo **README.md**, agregando una línea de texto que diga \"Cambios en README -dev\".\n",
        "9.    Publica los cambios en el repositorio en la rama **dev**. (commit)\n",
        "10.   ¿Cuál es la dirección de tu repositorio con las 2 ramas?\n"
      ],
      "metadata": {
        "id": "jUJCZy7EPH-f"
      }
    },
    {
      "cell_type": "code",
      "source": [
        "# Montar Google Drive en el entorno de Google Colab\n",
        "from google.colab import drive\n",
        "drive.mount('/gdrive')\n",
        "\n",
        "# Crear carpeta de trabajo\n",
        "%pwd\n",
        "%cd /gdrive/MyDrive/TC1002S.101\n",
        "%mkdir Actividad03\n",
        "%cd /gdrive/MyDrive/TC1002S.101/Actividad03\n",
        "%pwd\n",
        "\n",
        "!git clone https://github.com/yna2131/SemanaTec\n",
        "\n",
        "%ls\n",
        "\n",
        "%pwd\n",
        "%cd ./SemanaTec\n",
        "%pwd\n",
        "\n",
        "%ls\n",
        "\n",
        "!git remote -v\n",
        "\n",
        "!git pull https://github.com/yna2131/SemanaTec\n",
        "\n",
        "!echo \"Cambios en README - main\" >> README.md \n",
        "\n",
        "!git add .\n",
        "\n",
        "!git config --global user.email \"jn7924@gmail.com\"\n",
        "!git config --global user.name \"Yuna Chung\"\n",
        "\n",
        "!git commit -m \"Update en README desde branch -main\"\n",
        "\n",
        "!git status\n",
        "\n",
        "!git push origin main\n",
        "\n",
        "!git checkout -b dev\n",
        "!echo \"Cambios en README - dev\" >> README.md\n",
        "!git status\n",
        "\n",
        "!git add .\n",
        "\n",
        "!git commit -m \"Update en README desde branch -dev\"\n",
        "\n",
        "!git push -u origin dev"
      ],
      "metadata": {
        "id": "mxfZIJIaWWnc"
      },
      "execution_count": null,
      "outputs": []
    },
    {
      "cell_type": "markdown",
      "source": [
        "###**¿Qué debo entregar?**"
      ],
      "metadata": {
        "id": "6rEzQ6DMQ427"
      }
    },
    {
      "cell_type": "markdown",
      "source": [
        "En un archivo ZIP, deberás entregar:"
      ],
      "metadata": {
        "id": "AJACCrYDRV_Z"
      }
    },
    {
      "cell_type": "markdown",
      "source": [
        "1.    Un documento en Word (o PDF) que contenga capturas de pantalla de los resultados de los pasos anteriores.\n",
        "2.    El cuaderno de Google Colab que generaste para esta actividad."
      ],
      "metadata": {
        "id": "DFb89YG4RYf3"
      }
    },
    {
      "cell_type": "markdown",
      "source": [
        "###**¿Bajo qué criterios se evalúa mi evidnecia?**"
      ],
      "metadata": {
        "id": "0SIP5OU-Ri5g"
      }
    },
    {
      "cell_type": "markdown",
      "source": [
        "\n",
        "\n",
        "*   **-50** La actividad fue entregada fuera de la fecha límite.\n",
        "\n",
        "\n",
        "\n"
      ],
      "metadata": {
        "id": "D0kwSn4IRn5X"
      }
    }
  ]
}