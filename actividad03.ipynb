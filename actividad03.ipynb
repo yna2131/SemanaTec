{
  "nbformat": 4,
  "nbformat_minor": 0,
  "metadata": {
    "colab": {
      "provenance": [],
      "authorship_tag": "ABX9TyOpuIqnq992Lx5bEWP8Lpy5",
      "include_colab_link": true
    },
    "kernelspec": {
      "name": "python3",
      "display_name": "Python 3"
    },
    "language_info": {
      "name": "python"
    }
  },
  "cells": [
    {
      "cell_type": "markdown",
      "metadata": {
        "id": "view-in-github",
        "colab_type": "text"
      },
      "source": [
        "<a href=\"https://colab.research.google.com/github/yna2131/SemanaTec/blob/main/actividad03.ipynb\" target=\"_parent\"><img src=\"https://colab.research.google.com/assets/colab-badge.svg\" alt=\"Open In Colab\"/></a>"
      ]
    },
    {
      "cell_type": "markdown",
      "source": [
        "#**USANDO GIT EN GOOGLE COLAB**"
      ],
      "metadata": {
        "id": "YChM7SIN6gYz"
      }
    },
    {
      "cell_type": "markdown",
      "source": [
        "###**¿Qué tengo que hacer?**"
      ],
      "metadata": {
        "id": "Wg4WaVkvOuTb"
      }
    },
    {
      "cell_type": "markdown",
      "source": [
        "En esta actividad, practicaremos cómo enlacer Git con un cuaderno de Google Colab."
      ],
      "metadata": {
        "id": "0h2QLWymO6Q_"
      }
    },
    {
      "cell_type": "markdown",
      "source": [
        "###**Descripción**"
      ],
      "metadata": {
        "id": "aBfwU74ePDLT"
      }
    },
    {
      "cell_type": "markdown",
      "source": [
        "\n",
        "\n",
        "1.    Crea un repositorio llamado **SemanaTec** con un archivo **README.md**.\n",
        "2.    Asegúrate que el archivo contenga la rama **main**.\n",
        "3.    Crea un nuevo cuaderno en Google Colab.\n",
        "4.    Realiza todos los pasos necesarios para que, desde el cuaderno de Google Colab, accedamos al repositorio **SemanaTec**.\n",
        "5.    Empleando comandos de consola, realiza cambios en el archivo **README.md**. Para ello, agrega una línea de texto que diga \"Cambios en README -main\".\n",
        "6.    Publica los cambios en el repositorio en la rama **main**. (commit)\n",
        "7.    Genera una rama nueva llamada **dev**.\n",
        "8.    Realiza cambios en el archivo **README.md**, agregando una línea de texto que diga \"Cambios en README -dev\".\n",
        "9.    Publica los cambios en el repositorio en la rama **dev**. (commit)\n",
        "10.   ¿Cuál es la dirección de tu repositorio con las 2 ramas?\n"
      ],
      "metadata": {
        "id": "jUJCZy7EPH-f"
      }
    },
    {
      "cell_type": "markdown",
      "source": [
        "###**¿Qué debo entregar?**"
      ],
      "metadata": {
        "id": "6rEzQ6DMQ427"
      }
    },
    {
      "cell_type": "markdown",
      "source": [
        "En un archivo ZIP, deberás entregar:"
      ],
      "metadata": {
        "id": "AJACCrYDRV_Z"
      }
    },
    {
      "cell_type": "markdown",
      "source": [
        "1.    Un documento en Word (o PDF) que contenga capturas de pantalla de los resultados de los pasos anteriores.\n",
        "2.    El cuaderno de Google Colab que generaste para esta actividad."
      ],
      "metadata": {
        "id": "DFb89YG4RYf3"
      }
    },
    {
      "cell_type": "markdown",
      "source": [
        "###**¿Bajo qué criterios se evalúa mi evidnecia?**"
      ],
      "metadata": {
        "id": "0SIP5OU-Ri5g"
      }
    },
    {
      "cell_type": "markdown",
      "source": [
        "\n",
        "\n",
        "*   **-50** La actividad fue entregada fuera de la fecha límite.\n",
        "\n",
        "\n",
        "\n"
      ],
      "metadata": {
        "id": "D0kwSn4IRn5X"
      }
    }
  ]
}